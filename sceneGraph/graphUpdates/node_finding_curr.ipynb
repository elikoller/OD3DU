{
 "cells": [
  {
   "cell_type": "markdown",
   "metadata": {},
   "source": [
    "This codesegment focuses on the following: given a camera pose of the inputimage (new_scene), find the current nodes & edges in the camera view based on the current scenegraph\n",
    "\n",
    "general idea: we have the current mesh & scene graph a node is basically a part of the mesh -> do the ray rhooting as in the ray intersection and find the nodes that it belongs to\n",
    "\n",
    "unsued currently!!!"
   ]
  },
  {
   "cell_type": "code",
   "execution_count": 35,
   "metadata": {},
   "outputs": [
    {
     "name": "stdout",
     "output_type": "stream",
     "text": [
      "/local/home/ekoller/BT\n"
     ]
    }
   ],
   "source": [
    "import os \n",
    "import os.path as osp\n",
    "import numpy as np \n",
    "import cv2\n",
    "import open3d as o3d\n",
    "import json\n",
    "import pickle\n",
    "\n",
    "#the other imports from the local stuff\n",
    "#the other imports from the local stuff\n",
    "import sys\n",
    "\n",
    "ws_dir = '/local/home/ekoller/BT'\n",
    "print(ws_dir)\n",
    "sys.path.append(ws_dir)\n",
    "from utils import scan3r, ray_intersection\n"
   ]
  },
  {
   "cell_type": "code",
   "execution_count": 40,
   "metadata": {},
   "outputs": [],
   "source": [
    "#reading in the necessary data\n",
    "data_dir ='/local/home/ekoller/R3Scan'\n",
    "scenes_dir = '/local/home/ekoller/R3Scan/scenes'\n",
    "scan_id= \"38770c95-86d7-27b8-8717-3485b411ddc7\" #is reference scan  since it is a reference scan everything shouls be correctly hit\n",
    "frame_number = \"000015\"\n",
    "img_width = 960\n",
    "img_height = 540\n",
    "\n",
    "curr_scan_id = \"10b1795b-3938-2467-88fe-b10cad8913f8\" #is ref 1d2f8510-d757-207c-8c48-3684433860e1\n",
    "new_scan_id =  \"1d2f8510-d757-207c-8c48-3684433860e1\" #is rescan 9c27de56-6184-2cda-8196-591957b6387d\n",
    "\n",
    "#the original meshes are given in the file  'labels.instances.annotated.v2.ply\n"
   ]
  },
  {
   "cell_type": "code",
   "execution_count": 39,
   "metadata": {},
   "outputs": [],
   "source": [
    "#this method provides the list of the obj_id, global_obj ids and edges which are potentially modified in the current scene graph\n",
    "#returns affected_curr_nodes, affected_curr_edges, affected_new_nodes, affected_new_edges ( not yet the global id)\n",
    "def potential_nodes_and_edges(data_dir, scenes_dir, curr_scan_id, new_scan_id, frame_number):\n",
    "\n",
    "    #compute the different transformation files\n",
    "    ray_intersection.get_transformation_mask(data_dir, scenes_dir,curr_scan_id, new_scan_id, frame_number)\n",
    "\n",
    "    #note to self: think about the access of the files -> is it necessary to actually store both masks ? since we have the projection already\n",
    "    change_obj_new_path = os.path.join(data_dir, \"mask\", curr_scan_id, \"obj_id\",\"new_val_mask_pose_in_\"+ str(new_scan_id)+\"_\"+str(frame_number)+\".jpg\")\n",
    "    change_global_new_path = os.path.join(data_dir, \"mask\", curr_scan_id, \"global_id\",\"new_val_mask_pose_in_\"+ str(new_scan_id)+\"_\"+str(frame_number)+\".jpg\")\n",
    "    \n",
    "    change_obj_curr_path = os.path.join(data_dir, \"mask\", curr_scan_id, \"obj_id\",\"curr_val_mask_pose_in_\"+ str(new_scan_id)+\"_\"+str(frame_number)+\".jpg\")\n",
    "    change_global_curr_path = os.path.join(data_dir, \"mask\", curr_scan_id, \"global_id\",\"curr_val_mask_pose_in_\"+ str(new_scan_id)+\"_\"+str(frame_number)+\".jpg\")\n",
    "\n",
    "    #access the current edges and object id/ current ids for the tranlation\n",
    "    path = os.path.join(data_dir, \"files/orig/data/\" \"{}.pkl\".format(curr_scan_id))\n",
    "    with open(path, 'rb') as file:\n",
    "        data = pickle.load(file)\n",
    "        print(\"Keys in the data dictionary:\", data.keys())\n",
    "       \n",
    "\n",
    "    obj2idx = data[\"object_id2idx\"]\n",
    "    edges = data[\"edges\"]\n",
    "    # obj_id = data[\"objects_id\"]\n",
    "    # global_id = data[\"global_objects_id\"]\n",
    "    # print(\"obj_id length\", len(obj_id), \"values\", obj_id)\n",
    "    # print(\"global_id length\", len(global_id), \"values\", global_id)\n",
    "\n",
    "\n",
    "    #load the files and convert them to numpyys\n",
    "    new_obj = cv2.imread(change_obj_new_path, cv2.IMREAD_UNCHANGED)\n",
    "    new_obj = np.array(new_obj)\n",
    "    new_obj = new_obj.flatten()\n",
    "    nonzero_new_obj = new_obj[new_obj!= 0]\n",
    "    #this are the unique nodes which are affected\n",
    "    affected_new_nodes = np.unique(nonzero_new_obj)\n",
    "    #since edge access is in index also translate it\n",
    "    affected_new_nodes_idx =  [obj2idx[obj_id] for obj_id in affected_new_nodes if obj_id in obj2idx]\n",
    "    # new_global = cv2.imread(change_global_new_path, cv2.IMREAD_UNCHANGED)\n",
    "    # new_global = np.array(new_global)\n",
    "\n",
    "\n",
    "    curr_obj = cv2.imread(change_obj_curr_path, cv2.IMREAD_UNCHANGED)\n",
    "    curr_obj = np.array(curr_obj)\n",
    "    curr_obj = curr_obj.flatten()\n",
    "    nonzero_curr_obj = new_obj[curr_obj!= 0]\n",
    "    #this are the unique nodes which are affected\n",
    "    affected_curr_nodes = np.unique(nonzero_curr_obj)\n",
    "      #since edge access is in index also translateit\n",
    "    affected_curr_nodes_idx =  [obj2idx[obj_id] for obj_id in affected_curr_nodes if obj_id in obj2idx]\n",
    "    # curr_global = cv2.imread(change_global_curr_path, cv2.IMREAD_UNCHANGED)\n",
    "    # curr_global = np.array(curr_global)\n",
    "\n",
    "\n",
    "\n",
    "    affected_curr_edges_idx = [edge for edge in edges if edge[0] in affected_curr_nodes_idx or edge[1] in affected_curr_nodes_idx]\n",
    "    affected_new_edges_idx = [edge for edge in edges if edge[0] in affected_new_nodes_idx or edge[1] in affected_new_nodes_idx]\n",
    "\n",
    "    \n",
    "\n",
    "    \n",
    "\n",
    "\n",
    "    return affected_curr_nodes, affected_curr_edges_idx, affected_new_nodes, affected_new_edges_idx\n",
    "\n"
   ]
  },
  {
   "cell_type": "code",
   "execution_count": 41,
   "metadata": {},
   "outputs": [
    {
     "ename": "NameError",
     "evalue": "name 'scan3r' is not defined",
     "output_type": "error",
     "traceback": [
      "\u001b[0;31m---------------------------------------------------------------------------\u001b[0m",
      "\u001b[0;31mNameError\u001b[0m                                 Traceback (most recent call last)",
      "Cell \u001b[0;32mIn[41], line 1\u001b[0m\n\u001b[0;32m----> 1\u001b[0m \u001b[43mpotential_nodes_and_edges\u001b[49m\u001b[43m(\u001b[49m\u001b[43mdata_dir\u001b[49m\u001b[43m,\u001b[49m\u001b[43m \u001b[49m\u001b[43mscenes_dir\u001b[49m\u001b[43m,\u001b[49m\u001b[43mcurr_scan_id\u001b[49m\u001b[43m,\u001b[49m\u001b[43m \u001b[49m\u001b[43mnew_scan_id\u001b[49m\u001b[43m,\u001b[49m\u001b[43m \u001b[49m\u001b[43mframe_number\u001b[49m\u001b[43m)\u001b[49m\n",
      "Cell \u001b[0;32mIn[39], line 6\u001b[0m, in \u001b[0;36mpotential_nodes_and_edges\u001b[0;34m(data_dir, scenes_dir, curr_scan_id, new_scan_id, frame_number)\u001b[0m\n\u001b[1;32m      3\u001b[0m \u001b[38;5;28;01mdef\u001b[39;00m \u001b[38;5;21mpotential_nodes_and_edges\u001b[39m(data_dir, scenes_dir, curr_scan_id, new_scan_id, frame_number):\n\u001b[1;32m      4\u001b[0m \n\u001b[1;32m      5\u001b[0m     \u001b[38;5;66;03m#compute the different transformation files\u001b[39;00m\n\u001b[0;32m----> 6\u001b[0m     \u001b[43mray_intersection\u001b[49m\u001b[38;5;241;43m.\u001b[39;49m\u001b[43mget_transformation_mask\u001b[49m\u001b[43m(\u001b[49m\u001b[43mdata_dir\u001b[49m\u001b[43m,\u001b[49m\u001b[43m \u001b[49m\u001b[43mscenes_dir\u001b[49m\u001b[43m,\u001b[49m\u001b[43mcurr_scan_id\u001b[49m\u001b[43m,\u001b[49m\u001b[43m \u001b[49m\u001b[43mnew_scan_id\u001b[49m\u001b[43m,\u001b[49m\u001b[43m \u001b[49m\u001b[43mframe_number\u001b[49m\u001b[43m)\u001b[49m\n\u001b[1;32m      8\u001b[0m     \u001b[38;5;66;03m#note to self: think about the access of the files -> is it necessary to actually store both masks ? since we have the projection already\u001b[39;00m\n\u001b[1;32m      9\u001b[0m     change_obj_new_path \u001b[38;5;241m=\u001b[39m os\u001b[38;5;241m.\u001b[39mpath\u001b[38;5;241m.\u001b[39mjoin(data_dir, \u001b[38;5;124m\"\u001b[39m\u001b[38;5;124mmask\u001b[39m\u001b[38;5;124m\"\u001b[39m, curr_scan_id, \u001b[38;5;124m\"\u001b[39m\u001b[38;5;124mobj_id\u001b[39m\u001b[38;5;124m\"\u001b[39m,\u001b[38;5;124m\"\u001b[39m\u001b[38;5;124mnew_val_mask_pose_in_\u001b[39m\u001b[38;5;124m\"\u001b[39m\u001b[38;5;241m+\u001b[39m \u001b[38;5;28mstr\u001b[39m(new_scan_id)\u001b[38;5;241m+\u001b[39m\u001b[38;5;124m\"\u001b[39m\u001b[38;5;124m_\u001b[39m\u001b[38;5;124m\"\u001b[39m\u001b[38;5;241m+\u001b[39m\u001b[38;5;28mstr\u001b[39m(frame_number)\u001b[38;5;241m+\u001b[39m\u001b[38;5;124m\"\u001b[39m\u001b[38;5;124m.jpg\u001b[39m\u001b[38;5;124m\"\u001b[39m)\n",
      "File \u001b[0;32m~/BT/utils/ray_intersection.py:175\u001b[0m, in \u001b[0;36mget_transformation_mask\u001b[0;34m(data_dir, scenes_dir, curr_scan_id, new_scan_id, frame_number)\u001b[0m\n\u001b[1;32m    167\u001b[0m \u001b[38;5;28;01mdef\u001b[39;00m \u001b[38;5;21mget_transformation_mask\u001b[39m(data_dir, scenes_dir,curr_scan_id, new_scan_id, frame_number):\n\u001b[1;32m    168\u001b[0m \n\u001b[1;32m    169\u001b[0m     \u001b[38;5;66;03m#the ground truth of the new scan id must exist already\u001b[39;00m\n\u001b[0;32m   (...)\u001b[0m\n\u001b[1;32m    173\u001b[0m \n\u001b[1;32m    174\u001b[0m     \u001b[38;5;66;03m#get the information of the rgb image of new_scan_id based on the ground truth (this code is for after the ground truth has beeen generated)\u001b[39;00m\n\u001b[0;32m--> 175\u001b[0m     gt_colors \u001b[38;5;241m=\u001b[39m \u001b[43mscan3r\u001b[49m\u001b[38;5;241m.\u001b[39mload_gt_color_annos(data_dir,new_scan_id)\n\u001b[1;32m    176\u001b[0m     gt_obj_ids \u001b[38;5;241m=\u001b[39m scan3r\u001b[38;5;241m.\u001b[39mload_gt_obj_id_annos(data_dir, new_scan_id)\n\u001b[1;32m    177\u001b[0m     gt_global_ids \u001b[38;5;241m=\u001b[39m scan3r\u001b[38;5;241m.\u001b[39mload_gt_gloabl_id_annos(data_dir,new_scan_id)\n",
      "\u001b[0;31mNameError\u001b[0m: name 'scan3r' is not defined"
     ]
    }
   ],
   "source": [
    "potential_nodes_and_edges(data_dir, scenes_dir,curr_scan_id, new_scan_id, frame_number)"
   ]
  }
 ],
 "metadata": {
  "kernelspec": {
   "display_name": "BT",
   "language": "python",
   "name": "python3"
  },
  "language_info": {
   "codemirror_mode": {
    "name": "ipython",
    "version": 3
   },
   "file_extension": ".py",
   "mimetype": "text/x-python",
   "name": "python",
   "nbconvert_exporter": "python",
   "pygments_lexer": "ipython3",
   "version": "3.8.15"
  }
 },
 "nbformat": 4,
 "nbformat_minor": 2
}
