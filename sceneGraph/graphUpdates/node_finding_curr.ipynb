{
 "cells": [
  {
   "cell_type": "markdown",
   "metadata": {},
   "source": [
    "This codesegment focuses on the following: given a camera pose of the inputimage (new_scene), find the current nodes & edges in the camera view based on the current scenegraph\n",
    "\n",
    "general idea: we have the current mesh & scene graph a node is basically a part of the mesh -> do the ray rhooting as in the ray intersection and find the nodes that it belongs to"
   ]
  },
  {
   "cell_type": "code",
   "execution_count": null,
   "metadata": {
    "vscode": {
     "languageId": "plaintext"
    }
   },
   "outputs": [],
   "source": []
  }
 ],
 "metadata": {
  "language_info": {
   "name": "python"
  }
 },
 "nbformat": 4,
 "nbformat_minor": 2
}
