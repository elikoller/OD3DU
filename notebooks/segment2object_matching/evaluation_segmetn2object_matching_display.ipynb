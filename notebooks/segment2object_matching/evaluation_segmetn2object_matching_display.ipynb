{
 "cells": [
  {
   "cell_type": "markdown",
   "metadata": {},
   "source": [
    "This notebook visualizes the evaluation results for the segment to object matching experiments\n"
   ]
  },
  {
   "cell_type": "code",
   "execution_count": null,
   "metadata": {},
   "outputs": [],
   "source": [
    "#look at the mask data\n",
    "import pickle\n",
    "import numpy as np\n",
    "import pandas as pd\n",
    "import os.path as osp\n",
    "final_precision = []\n",
    "final_recall = []\n",
    "final_f1 = []\n",
    "\n",
    "# Access the contents, modify the path according to your directory\n",
    "filepath = \"/local/home/ekoller/R3Scan/files/Results/Matching_Prediction_train/avg/statistic_predicted_matches.pkl\"\n",
    "with open(filepath, 'rb') as file:\n",
    "    result = pickle.load(file)\n",
    "\n",
    "final_precision.append(result.get(\"metric_precision\", None))\n",
    "final_recall.append(result.get(\"metric_recall\", None))\n",
    "final_f1.append(result.get(\"mectric_f1\", None))\n",
    "\n",
    "#adjust the parameters if needed\n",
    "k_means=  [1,3,5,7,9] \n",
    "threshold= [0.0, 0.1, 0.2, 0.3, 0.4, 0.5, 0.6, 0.7,0.8,0.9]\n",
    "\n",
    "#load the dataframe\n",
    "df_precision = pd.DataFrame(final_precision, index=threshold, columns=k_means)\n",
    "df_recall = pd.DataFrame(final_recall, index=threshold, columns=k_means)\n",
    "df_f1 = pd.DataFrame(final_f1, index=threshold, columns=k_means)\n",
    "\n",
    "# Set index and column labels for better readability\n",
    "df_precision.index.name = 'Cosine Threshold'\n",
    "df_precision.columns.name = 'K-NN'\n",
    "\n",
    "df_recall.index.name = 'Cosine Threshold'\n",
    "df_recall.columns.name = 'K-NN'\n",
    "\n",
    "df_f1.index.name = 'Cosine Threshold'\n",
    "df_f1.columns.name = 'K-NN'\n",
    "\n",
    "# Set Pandas options to display without wrapping\n",
    "pd.set_option('display.max_columns', None)  # Ensure all columns are shown\n",
    "pd.set_option('display.width', None)        # Make display width flexible\n",
    "pd.set_option('display.expand_frame_repr', False)  # Prevent wrapping\n",
    "\n",
    "\n",
    "# Display the tables\n",
    "print(\"Precision AVG\")\n",
    "print(df_precision)\n",
    "print(\"\\nRecall AVG\")\n",
    "print(df_recall)\n",
    "print(\"\\nF1 AVG\")\n",
    "print(df_f1)"
   ]
  }
 ],
 "metadata": {
  "kernelspec": {
   "display_name": "sam",
   "language": "python",
   "name": "python3"
  },
  "language_info": {
   "codemirror_mode": {
    "name": "ipython",
    "version": 3
   },
   "file_extension": ".py",
   "mimetype": "text/x-python",
   "name": "python",
   "nbconvert_exporter": "python",
   "pygments_lexer": "ipython3",
   "version": "3.8.19"
  }
 },
 "nbformat": 4,
 "nbformat_minor": 2
}
